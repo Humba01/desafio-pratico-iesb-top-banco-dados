{
 "cells": [
  {
   "cell_type": "markdown",
   "metadata": {
    "id": "eTc5cWpBHh4n"
   },
   "source": [
    "# Desafio Laboratório Prático Final\n",
    "###### Tópicos em Banco de Dados\n",
    "======\n"
   ]
  },
  {
   "cell_type": "code",
   "execution_count": 4,
   "metadata": {
    "colab": {
     "base_uri": "https://localhost:8080/"
    },
    "id": "3Je8ZUkhHZjA",
    "outputId": "5aa8e2e6-5af6-486a-91a3-a1439ae509ea"
   },
   "outputs": [
    {
     "name": "stdout",
     "output_type": "stream",
     "text": [
      "Requirement already satisfied: pymongo in /opt/conda/lib/python3.11/site-packages (4.13.0)\n",
      "Requirement already satisfied: dnspython<3.0.0,>=1.16.0 in /opt/conda/lib/python3.11/site-packages (from pymongo) (2.7.0)\n"
     ]
    }
   ],
   "source": [
    "# instalando dependências necessárias\n",
    "!pip install pymongo"
   ]
  },
  {
   "cell_type": "markdown",
   "metadata": {
    "id": "vzr3FCh0NkSD"
   },
   "source": [
    "## Configurando bibliotecas e estruturas padrão para o projeto"
   ]
  },
  {
   "cell_type": "code",
   "execution_count": 5,
   "metadata": {
    "id": "bK0Aq27kJnHr"
   },
   "outputs": [],
   "source": [
    "# bibliotecas de aprendizado de máquina e mineração de dados\n",
    "import numpy as np\n",
    "import pandas as pd\n",
    "import plotly.express as px\n",
    "import seaborn as sns\n",
    "import matplotlib.pyplot as plt\n",
    "from sklearn.metrics import accuracy_score, precision_score, recall_score, f1_score, confusion_matrix\n",
    "import re\n",
    "import nltk\n",
    "from nltk.corpus import stopwords\n",
    "import tqdm\n",
    "from wordcloud import WordCloud\n",
    "from sklearn.feature_extraction.text import CountVectorizer,TfidfTransformer\n",
    "import string"
   ]
  },
  {
   "cell_type": "markdown",
   "metadata": {
    "id": "cBvh0eL2ZaAd"
   },
   "source": [
    "## Operação para colocar o csv no MongoDB, além de recupera-los e colocar em uma variável para o próximo passo"
   ]
  },
  {
   "cell_type": "code",
   "execution_count": 1,
   "metadata": {
    "colab": {
     "base_uri": "https://localhost:8080/"
    },
    "id": "QT225SzAZhGU",
    "outputId": "9974462b-0a48-43d5-db23-73261632647e",
    "scrolled": true
   },
   "outputs": [
    {
     "name": "stdout",
     "output_type": "stream",
     "text": [
      "Conectado ao MongoDB em 127.0.0.1:27017 com autenticação.\n",
      "Ocorreu um erro ao inserir dados ou conectar (verifique credenciais/servidor): 127.0.0.1:27017: [Errno 111] Connection refused (configured timeouts: socketTimeoutMS: 20000.0ms, connectTimeoutMS: 20000.0ms), Timeout: 30s, Topology Description: <TopologyDescription id: 684482ab751e1257c0eeabf7, topology_type: Unknown, servers: [<ServerDescription ('127.0.0.1', 27017) server_type: Unknown, rtt: None, error=AutoReconnect('127.0.0.1:27017: [Errno 111] Connection refused (configured timeouts: socketTimeoutMS: 20000.0ms, connectTimeoutMS: 20000.0ms)')>]>\n",
      "Conexão com o MongoDB fechada (após inserção).\n",
      "Conectado ao MongoDB em 127.0.0.1:27017 para recuperação de dados com autenticação.\n",
      "Ocorreu um erro ao recuperar dados do MongoDB ou conectar (verifique credenciais/servidor): 127.0.0.1:27017: [Errno 111] Connection refused (configured timeouts: socketTimeoutMS: 20000.0ms, connectTimeoutMS: 20000.0ms), Timeout: 30s, Topology Description: <TopologyDescription id: 684482cc751e1257c0eeb4a9, topology_type: Unknown, servers: [<ServerDescription ('127.0.0.1', 27017) server_type: Unknown, rtt: None, error=AutoReconnect('127.0.0.1:27017: [Errno 111] Connection refused (configured timeouts: socketTimeoutMS: 20000.0ms, connectTimeoutMS: 20000.0ms)')>]>\n",
      "Conexão com o MongoDB fechada (após recuperação).\n",
      "\n",
      "Nenhum dado foi recuperado do MongoDB.\n"
     ]
    }
   ],
   "source": [
    "import csv\n",
    "from pymongo import MongoClient\n",
    "from bson.objectid import ObjectId # Importar ObjectId para lidar com o campo _id\n",
    "\n",
    "# --- Configurações do MongoDB ---\n",
    "MONGO_HOST = '127.0.0.1' # Ou o endereço IP do seu servidor MongoDB\n",
    "MONGO_PORT = 27017       # Porta padrão do MongoDB\n",
    "DB_NAME = 'minha_base_de_dados' # Nome do banco de dados\n",
    "COLLECTION_NAME = 'meus_dados_csv' # Nome da coleção onde os dados serão inseridos\n",
    "\n",
    "# --- Credenciais do MongoDB ---\n",
    "# ATENÇÃO: Em um ambiente de produção, NÃO armazene senhas diretamente no código.\n",
    "# Use variáveis de ambiente ou um sistema de gerenciamento de segredos.\n",
    "MONGO_USER = 'admin'\n",
    "MONGO_PASS = '123456'\n",
    "\n",
    "# --- Caminho do arquivo CSV ---\n",
    "CSV_FILE_PATH = 'df_file.csv' # Certifique-se de que este arquivo está no mesmo diretório do seu script Python ou forneça o caminho completo\n",
    "\n",
    "def ler_csv_e_inserir_no_mongodb(csv_file, db_name, collection_name, host, port, user, password):\n",
    "    \"\"\"\n",
    "    Lê um arquivo CSV e insere seus dados em uma coleção MongoDB,\n",
    "    com autenticação.\n",
    "\n",
    "    Args:\n",
    "        csv_file (str): O caminho para o arquivo CSV.\n",
    "        db_name (str): O nome do banco de dados no MongoDB.\n",
    "        collection_name (str): O nome da coleção onde os dados serão inseridos.\n",
    "        host (str): O host do servidor MongoDB.\n",
    "        port (int): A porta do servidor MongoDB.\n",
    "        user (str): Nome de usuário para autenticação no MongoDB.\n",
    "        password (str): Senha para autenticação no MongoDB.\n",
    "    \"\"\"\n",
    "    client = None\n",
    "    try:\n",
    "        # Conecta ao MongoDB usando autenticação na string de conexão URI\n",
    "        mongo_uri = f\"mongodb://{user}:{password}@{host}:{port}/\"\n",
    "        client = MongoClient(mongo_uri)\n",
    "\n",
    "        # Opcional: Para verificar se a autenticação foi bem-sucedida,\n",
    "        # você pode tentar acessar um recurso, como o `admin` db.\n",
    "        # client.admin.command('ismaster') # Isso pode levantar uma exceção se a autenticação falhar\n",
    "\n",
    "        db = client[db_name]\n",
    "        collection = db[collection_name]\n",
    "        print(f\"Conectado ao MongoDB em {host}:{port} com autenticação.\")\n",
    "\n",
    "        with open(csv_file, mode='r', encoding='utf-8') as file:\n",
    "            csv_reader = csv.DictReader(file)\n",
    "            data_to_insert = []\n",
    "            for row in csv_reader:\n",
    "                data_to_insert.append(row)\n",
    "\n",
    "            if data_to_insert:\n",
    "                result = collection.insert_many(data_to_insert)\n",
    "                print(f\"Dados inseridos com sucesso! IDs dos documentos: {result.inserted_ids}\")\n",
    "            else:\n",
    "                print(\"Nenhum dado encontrado no arquivo CSV para inserir.\")\n",
    "\n",
    "    except FileNotFoundError:\n",
    "        print(f\"Erro: O arquivo '{csv_file}' não foi encontrado.\")\n",
    "    except Exception as e:\n",
    "        print(f\"Ocorreu um erro ao inserir dados ou conectar (verifique credenciais/servidor): {e}\")\n",
    "    finally:\n",
    "        if client:\n",
    "            client.close()\n",
    "            print(\"Conexão com o MongoDB fechada (após inserção).\")\n",
    "\n",
    "def pegar_dados_do_mongodb_para_dicionario(db_name, collection_name, host, port, user, password):\n",
    "    \"\"\"\n",
    "    Pega todos os documentos de uma coleção MongoDB e os retorna como uma lista de dicionários,\n",
    "    com autenticação.\n",
    "\n",
    "    Args:\n",
    "        db_name (str): O nome do banco de dados no MongoDB.\n",
    "        collection_name (str): O nome da coleção de onde os dados serão recuperados.\n",
    "        host (str): O host do servidor MongoDB.\n",
    "        port (int): A porta do servidor MongoDB.\n",
    "        user (str): Nome de usuário para autenticação no MongoDB.\n",
    "        password (str): Senha para autenticação no MongoDB.\n",
    "\n",
    "    Returns:\n",
    "        list: Uma lista de dicionários, onde cada dicionário representa um documento da coleção.\n",
    "              Retorna uma lista vazia se nenhum dado for encontrado ou se ocorrer um erro.\n",
    "    \"\"\"\n",
    "    client = None\n",
    "    data_from_mongo = []\n",
    "    try:\n",
    "        # Conecta ao MongoDB usando autenticação na string de conexão URI\n",
    "        mongo_uri = f\"mongodb://{user}:{password}@{host}:{port}/\"\n",
    "        client = MongoClient(mongo_uri)\n",
    "\n",
    "        db = client[db_name]\n",
    "        collection = db[collection_name]\n",
    "        print(f\"Conectado ao MongoDB em {host}:{port} para recuperação de dados com autenticação.\")\n",
    "\n",
    "        for document in collection.find({}):\n",
    "            if '_id' in document and isinstance(document['_id'], ObjectId):\n",
    "                document['_id'] = str(document['_id'])\n",
    "            data_from_mongo.append(document)\n",
    "\n",
    "        print(f\"Recuperou {len(data_from_mongo)} documentos da coleção '{collection_name}'.\")\n",
    "\n",
    "    except Exception as e:\n",
    "        print(f\"Ocorreu um erro ao recuperar dados do MongoDB ou conectar (verifique credenciais/servidor): {e}\")\n",
    "    finally:\n",
    "        if client:\n",
    "            client.close()\n",
    "            print(\"Conexão com o MongoDB fechada (após recuperação).\")\n",
    "    return data_from_mongo\n",
    "\n",
    "# --- Chamada das funções principais ---\n",
    "if __name__ == \"__main__\":\n",
    "    # Primeiro, opcionalmente, insira os dados do CSV (se ainda não o fez)\n",
    "    # Certifique-se de que o usuário 'admin' com a senha '123456'\n",
    "    # tem as permissões adequadas no MongoDB para o 'minha_base_de_dados'.\n",
    "    ler_csv_e_inserir_no_mongodb(\n",
    "        CSV_FILE_PATH, DB_NAME, COLLECTION_NAME, MONGO_HOST, MONGO_PORT,\n",
    "        MONGO_USER, MONGO_PASS\n",
    "    )\n",
    "\n",
    "    # Agora, pegue os dados da coleção\n",
    "    dados_recuperados = pegar_dados_do_mongodb_para_dicionario(\n",
    "        DB_NAME, COLLECTION_NAME, MONGO_HOST, MONGO_PORT,\n",
    "        MONGO_USER, MONGO_PASS\n",
    "    )\n",
    "\n",
    "    if dados_recuperados:\n",
    "        print(\"\\nDados recuperados do MongoDB:\")\n",
    "        for item in dados_recuperados:\n",
    "            print(item)\n",
    "    else:\n",
    "        print(\"\\nNenhum dado foi recuperado do MongoDB.\")\n",
    "\n"
   ]
  },
  {
   "cell_type": "markdown",
   "metadata": {},
   "source": [
    "# Adicionando aprendizado de máquina sobre a amostra coletada"
   ]
  },
  {
   "cell_type": "code",
   "execution_count": 14,
   "metadata": {},
   "outputs": [
    {
     "ename": "AttributeError",
     "evalue": "'list' object has no attribute 'head'",
     "output_type": "error",
     "traceback": [
      "\u001b[0;31m---------------------------------------------------------------------------\u001b[0m",
      "\u001b[0;31mAttributeError\u001b[0m                            Traceback (most recent call last)",
      "Cell \u001b[0;32mIn[14], line 7\u001b[0m\n\u001b[1;32m      5\u001b[0m \u001b[38;5;66;03m# df = pd.read_csv('./df_file.csv') # encoding='latin-1'\u001b[39;00m\n\u001b[1;32m      6\u001b[0m df \u001b[38;5;241m=\u001b[39m dados_recuperados\n\u001b[0;32m----> 7\u001b[0m \u001b[43mdf\u001b[49m\u001b[38;5;241;43m.\u001b[39;49m\u001b[43mhead\u001b[49m()\n\u001b[1;32m      8\u001b[0m df\u001b[38;5;241m.\u001b[39minfo()\n",
      "\u001b[0;31mAttributeError\u001b[0m: 'list' object has no attribute 'head'"
     ]
    }
   ],
   "source": [
    "from warnings import filterwarnings\n",
    "filterwarnings('ignore')\n",
    "pd.set_option('display.max_colwidth', 100)\n",
    "\n",
    "# df = pd.read_csv('./df_file.csv') # encoding='latin-1'\n",
    "df = dados_recuperados\n",
    "df.head()\n",
    "df.info()\n",
    "df.shape\n",
    "df.Label.unique()\n",
    "df.duplicated().sum()\n",
    "\n",
    "df.drop_duplicates(keep='last', inplace=True)\n",
    "df.duplicated().sum()\n",
    "\n",
    "df.isnull().values.any()\n",
    "\n",
    "df.head()\n",
    "\n",
    "df.replace({0:\"Politics\", 1:\"Sport\", 2:\"Technology\", 3:\"Entertainment\", 4:\"Business\"}, inplace=True)\n",
    "\n",
    "df.Label.value_counts()"
   ]
  },
  {
   "cell_type": "code",
   "execution_count": null,
   "metadata": {},
   "outputs": [],
   "source": [
    "import plotly.express as px\n",
    "import pandas as pd\n",
    "\n",
    "# Contagem de valores da coluna 'Label'\n",
    "label_counts = df['Label'].value_counts().reset_index()\n",
    "label_counts.columns = ['Label', 'Count']\n",
    "\n",
    "# Gráfico de pizza com buraco (do tipo donut)\n",
    "fig = px.pie(label_counts,\n",
    "             values='Count',\n",
    "             names='Label',\n",
    "             hole=0.5,\n",
    "             title='Label distribution of the Text')\n",
    "\n",
    "fig.show()"
   ]
  },
  {
   "cell_type": "code",
   "execution_count": null,
   "metadata": {},
   "outputs": [],
   "source": [
    "df.head()\n",
    "\n",
    "df['Text'][df['Label'] == 'Politics'][0]"
   ]
  },
  {
   "cell_type": "code",
   "execution_count": null,
   "metadata": {},
   "outputs": [],
   "source": [
    "def cleanTweets(text):\n",
    "    txt = text.lower() #convert all letters to lower case\n",
    "    txt = re.sub(\"@[A-Za-z0-9_]+\",\"\", txt) #remove mentions\n",
    "    txt = re.sub(r\"http\\S+\", \"\", txt) #remove url's https tags\n",
    "    txt = re.sub(r\"www.\\S+\", \"\", txt) #remove url's www tags\n",
    "    txt = re.sub(\"[^a-z0-9]\",\" \", txt) #remove non-alphanumeric characters\n",
    "    txt = re.sub('[\\s]+', ' ', txt) #Remove additional white spaces\n",
    "    return txt\n",
    "\n",
    "cleantext = []\n",
    "\n",
    "for item in df['Text']:\n",
    "    txt = cleanTweets(item)\n",
    "    cleantext += [txt]\n",
    "\n",
    "df['clean_text'] = cleantext\n",
    "df.head(10)\n",
    "\n",
    "df = df.drop(['Text'],axis=1)\n",
    "df.head()"
   ]
  },
  {
   "cell_type": "code",
   "execution_count": null,
   "metadata": {},
   "outputs": [],
   "source": [
    "import nltk\n",
    "nltk.download('stopwords')\n",
    "stop = stopwords.words('english')\n",
    "stop[0:10]\n",
    "\n",
    "def remove_stopwords(text):\n",
    "    text = [word.lower() for word in text.split() if word.lower() not in stop]\n",
    "    return \" \".join(text)\n",
    "\n",
    "df['clean_text'] = df['clean_text'].apply(remove_stopwords)\n",
    "df.head()"
   ]
  }
 ],
 "metadata": {
  "colab": {
   "provenance": []
  },
  "kernelspec": {
   "display_name": "Python 3 (ipykernel)",
   "language": "python",
   "name": "python3"
  },
  "language_info": {
   "codemirror_mode": {
    "name": "ipython",
    "version": 3
   },
   "file_extension": ".py",
   "mimetype": "text/x-python",
   "name": "python",
   "nbconvert_exporter": "python",
   "pygments_lexer": "ipython3",
   "version": "3.11.6"
  }
 },
 "nbformat": 4,
 "nbformat_minor": 4
}
